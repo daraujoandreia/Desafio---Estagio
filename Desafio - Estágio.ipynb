{
 "cells": [
  {
   "cell_type": "markdown",
   "metadata": {},
   "source": [
    "### Questão 02"
   ]
  },
  {
   "cell_type": "code",
   "execution_count": 45,
   "metadata": {},
   "outputs": [],
   "source": [
    "def fibonacci(n):\n",
    "    list = [0,1]\n",
    "    while len(list)<n:\n",
    "        list.append(list[-1]+list[-2]) #calculando os itens da sequência e armazenando na lista inicial\n",
    "    print (f'Sequência:{list}')\n",
    "    if n in list:\n",
    "        print (\"\\n O número dado pertence à sequência.\")\n",
    "    else:\n",
    "        print(\"\\n O número dado não pertence à sequência.\")"
   ]
  },
  {
   "cell_type": "code",
   "execution_count": 32,
   "metadata": {},
   "outputs": [
    {
     "name": "stdout",
     "output_type": "stream",
     "text": [
      "Sequência:[0, 1, 1, 2, 3, 5, 8, 13, 21, 34, 55, 89, 144, 233, 377, 610, 987, 1597, 2584, 4181, 6765, 10946, 17711, 28657, 46368, 75025, 121393, 196418, 317811, 514229, 832040, 1346269, 2178309, 3524578, 5702887]\n",
      "\n",
      " O número dado não pertence à sequência.\n"
     ]
    }
   ],
   "source": [
    "fibonacci(35)"
   ]
  },
  {
   "cell_type": "code",
   "execution_count": 33,
   "metadata": {},
   "outputs": [
    {
     "name": "stdout",
     "output_type": "stream",
     "text": [
      "Sequência:[0, 1, 1, 2, 3, 5, 8, 13, 21, 34, 55, 89, 144, 233, 377, 610, 987, 1597, 2584, 4181, 6765, 10946, 17711, 28657, 46368, 75025, 121393, 196418, 317811, 514229, 832040, 1346269, 2178309, 3524578, 5702887, 9227465, 14930352, 24157817, 39088169, 63245986, 102334155, 165580141, 267914296, 433494437, 701408733, 1134903170, 1836311903, 2971215073, 4807526976, 7778742049, 12586269025, 20365011074, 32951280099, 53316291173, 86267571272]\n",
      "\n",
      " O número dado pertence à sequência.\n"
     ]
    }
   ],
   "source": [
    "fibonacci(55)"
   ]
  },
  {
   "cell_type": "markdown",
   "metadata": {},
   "source": [
    "### Questão 03"
   ]
  },
  {
   "cell_type": "code",
   "execution_count": 34,
   "metadata": {},
   "outputs": [
    {
     "data": {
      "text/plain": [
       "[{'dia': 1, 'valor': 22174.1664},\n",
       " {'dia': 2, 'valor': 24537.6698},\n",
       " {'dia': 3, 'valor': 26139.6134},\n",
       " {'dia': 4, 'valor': 0.0},\n",
       " {'dia': 5, 'valor': 0.0},\n",
       " {'dia': 6, 'valor': 26742.6612},\n",
       " {'dia': 7, 'valor': 0.0},\n",
       " {'dia': 8, 'valor': 42889.2258},\n",
       " {'dia': 9, 'valor': 46251.174},\n",
       " {'dia': 10, 'valor': 11191.4722},\n",
       " {'dia': 11, 'valor': 0.0},\n",
       " {'dia': 12, 'valor': 0.0},\n",
       " {'dia': 13, 'valor': 3847.4823},\n",
       " {'dia': 14, 'valor': 373.7838},\n",
       " {'dia': 15, 'valor': 2659.7563},\n",
       " {'dia': 16, 'valor': 48924.2448},\n",
       " {'dia': 17, 'valor': 18419.2614},\n",
       " {'dia': 18, 'valor': 0.0},\n",
       " {'dia': 19, 'valor': 0.0},\n",
       " {'dia': 20, 'valor': 35240.1826},\n",
       " {'dia': 21, 'valor': 43829.1667},\n",
       " {'dia': 22, 'valor': 18235.6852},\n",
       " {'dia': 23, 'valor': 4355.0662},\n",
       " {'dia': 24, 'valor': 13327.1025},\n",
       " {'dia': 25, 'valor': 0.0},\n",
       " {'dia': 26, 'valor': 0.0},\n",
       " {'dia': 27, 'valor': 25681.8318},\n",
       " {'dia': 28, 'valor': 1718.1221},\n",
       " {'dia': 29, 'valor': 13220.495},\n",
       " {'dia': 30, 'valor': 8414.61}]"
      ]
     },
     "execution_count": 34,
     "metadata": {},
     "output_type": "execute_result"
    }
   ],
   "source": [
    "import json\n",
    "\n",
    "with open('dados.json', 'r', encoding='utf8') as f:\n",
    "        dados = json.load(f)\n",
    "        \n",
    "dados #visualizando os dados do arquivo"
   ]
  },
  {
   "cell_type": "code",
   "execution_count": 42,
   "metadata": {},
   "outputs": [
    {
     "name": "stdout",
     "output_type": "stream",
     "text": [
      "O maior valor de faturamento ocorrido em um dia do mês foi R$48924.2448.\n",
      "O menor valor de faturamento ocorrido em um dia do mês foi R$0.0.\n",
      "O menor valor de faturamento ocorrido em um dia do mês, retirando os faturamentos iguais a zero, foi R$373.7838.\n",
      "Número de dias no mês em que o valor de faturamento diário foi superior à média mensal: 10\n"
     ]
    }
   ],
   "source": [
    "faturamentos = []\n",
    "\n",
    "for i in range(len(dados)):\n",
    "    faturamentos.append(dados[i]['valor']) #criando uma lista apenas com os valores de faturamento de cada mês\n",
    "print(f'O maior valor de faturamento ocorrido em um dia do mês foi R${max(faturamentos)}.') #localizando o maior valor da lista\n",
    "print(f'O menor valor de faturamento ocorrido em um dia do mês foi R${min(faturamentos)}.') #localizando o menor valor da lista\n",
    "    \n",
    "faturamentosValidos = []\n",
    "\n",
    "for i in range(len(dados)):\n",
    "    if (dados[i]['valor']) != 0.0:\n",
    "        faturamentosValidos.append(dados[i]['valor']) #criando uma lista apenas com os valores de faturamento de cada mês retirando os dias de faturamento igual à zero\n",
    "print(f'O menor valor de faturamento ocorrido em um dia do mês, retirando os faturamentos iguais a zero, foi R${min(faturamentosValidos)}.') # localizando o menor valor da lista\n",
    "\n",
    "\n",
    "dias = len(faturamentosValidos)\n",
    "mediaMensal = (sum(faturamentosValidos))/dias #calculando a média mensal\n",
    "\n",
    "numeroDias = 0\n",
    "\n",
    "for i in range(len(dados)):\n",
    "    if (dados[i]['valor']) > mediaMensal:\n",
    "        numeroDias += 1 #calculando o número de dias\n",
    "        \n",
    "print(f'Número de dias no mês em que o valor de faturamento diário foi superior à média mensal: {numeroDias}')"
   ]
  },
  {
   "cell_type": "markdown",
   "metadata": {},
   "source": [
    "### Questão 04"
   ]
  },
  {
   "cell_type": "code",
   "execution_count": 44,
   "metadata": {},
   "outputs": [
    {
     "name": "stdout",
     "output_type": "stream",
     "text": [
      "Percentual de representação de cada estado\n",
      "\n",
      "SP: 37.52845624346716%\n",
      "\n",
      "RJ: 20.291360952794975%\n",
      "\n",
      "MG: 16.170548370275323%\n",
      "\n",
      "ES: 15.028481414968068%\n",
      "\n",
      "Outros: 10.981153018494469%\n"
     ]
    }
   ],
   "source": [
    "faturamentosEstados = dict(SP = 67836.43, RJ = 36678.66, MG = 29229.88 , ES = 27165.48, Outros = 19849.53) #criando um dicionário com os faturamentos de cada estado\n",
    "percentuais = dict(SP = 0 , RJ = 0, MG = 0 , ES = 0, Outros = 0)  #criando um dicionário para armazenar os percentuais de cada estado\n",
    "valores = faturamentosEstados.values()\n",
    "total = sum(valores) #calculando o valor total mensal da distribuidora \n",
    "\n",
    "print('Percentual de representação de cada estado')\n",
    "for i in percentuais.keys():\n",
    "    percentuais.update({i:(faturamentosEstados[i]*100)/total}) #calculando cada percentual e armazenando no dicionário\n",
    "for j in percentuais.keys():    \n",
    "    print(f'\\n{j}: {percentuais[j]}%')    "
   ]
  },
  {
   "cell_type": "markdown",
   "metadata": {},
   "source": [
    "### Questão 05"
   ]
  },
  {
   "cell_type": "code",
   "execution_count": 46,
   "metadata": {},
   "outputs": [],
   "source": [
    "def inverteString(string):\n",
    "    inversa = ''\n",
    "    cont = len(string)\n",
    "    while cont > 0:\n",
    "        inversa = inversa+(string[cont-1]) #criando a string inversa\n",
    "        cont -= 1\n",
    "    print(inversa)"
   ]
  },
  {
   "cell_type": "code",
   "execution_count": 47,
   "metadata": {},
   "outputs": [
    {
     "name": "stdout",
     "output_type": "stream",
     "text": [
      "etset\n"
     ]
    }
   ],
   "source": [
    "inverteString('teste')"
   ]
  },
  {
   "cell_type": "code",
   "execution_count": 49,
   "metadata": {},
   "outputs": [
    {
     "name": "stdout",
     "output_type": "stream",
     "text": [
      ".salertse sad arieop ed sotief somoS\n"
     ]
    }
   ],
   "source": [
    "inverteString('Somos feitos de poeira das estrelas.')"
   ]
  },
  {
   "cell_type": "code",
   "execution_count": null,
   "metadata": {},
   "outputs": [],
   "source": []
  },
  {
   "cell_type": "code",
   "execution_count": null,
   "metadata": {},
   "outputs": [],
   "source": []
  }
 ],
 "metadata": {
  "kernelspec": {
   "display_name": "Python 3",
   "language": "python",
   "name": "python3"
  },
  "language_info": {
   "codemirror_mode": {
    "name": "ipython",
    "version": 3
   },
   "file_extension": ".py",
   "mimetype": "text/x-python",
   "name": "python",
   "nbconvert_exporter": "python",
   "pygments_lexer": "ipython3",
   "version": "3.7.0"
  }
 },
 "nbformat": 4,
 "nbformat_minor": 2
}
